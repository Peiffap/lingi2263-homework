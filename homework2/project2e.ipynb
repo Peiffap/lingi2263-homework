{
 "cells": [
  {
   "cell_type": "markdown",
   "metadata": {},
   "source": [
    "# 2.5 Pos Tagger based on HMMs (ctd.)\n",
    "## Question 1: Testing the NLTK HMM tagger\n",
    "### Reminder from task 2.3.\n",
    "\n",
    "An nltk tagger has a built-in method `tag` that you can use as follows:\n",
    "```python\n",
    "sentence = \"This is an example sentence\"\n",
    "my_tagger.tag(sentence.split())\n",
    "```\n",
    "As shown in the example, the `tag` method accepts an input which is an untagged input text split into a list of strings. This method will return a list of tuples where each tuple consists of a word (coming from the input) and its associated tag.\n",
    "\n",
    "### Your task\n",
    "\n",
    "To check this, you are asked to test the NLTK HMM tagger on the following sentence `\"Can you tag this simple sentence with the tagger you just built ?\"` and provide the result below (in the format provided by the method `tag`)."
   ]
  },
  {
   "cell_type": "code",
   "execution_count": 6,
   "metadata": {},
   "outputs": [
    {
     "name": "stdout",
     "output_type": "stream",
     "text": [
      "[('Can', 'WRB'), ('you', 'PRP'), ('tag', 'VBZ'), ('this', 'DT'), ('simple', 'JJ'), ('sentence', 'NN'), ('with', 'IN'), ('the', 'DT'), ('tagger', 'WP'), ('you', 'PRP'), ('just', 'RB'), ('built', 'VBN'), ('?', '.')]\n"
     ]
    }
   ],
   "source": [
    "import nltk\n",
    "from nltk.corpus.reader import TaggedCorpusReader\n",
    "\n",
    "train = TaggedCorpusReader(root=\"resources\", fileids=\"BAWE_train.retagged.txt\")\n",
    "\n",
    "sentence = \"Can you tag this simple sentence with the tagger you just built ?\"\n",
    "tagger = nltk.HiddenMarkovModelTagger.train(train.tagged_sents())\n",
    "print(tagger.tag(sentence.split()))"
   ]
  },
  {
   "cell_type": "markdown",
   "metadata": {},
   "source": [
    "## Question 2: Evaluate the NLTK HMM tagger\n",
    "### Reminder from task 2.3.\n",
    "\n",
    "The previous question showed you how to obtain the tags associated to words in a text. In general, you'll be interested to evaluate how good a tagger is.\n",
    "\n",
    "An nltk tagger offers an evaluate method which you can use as shown below:\n",
    "```python\n",
    "my_tagger.evaluate(expression)\n",
    "```\n",
    "where expression is a list of tagged sentences (in the same format as that of `corpus.tagged_sents()`. In other words, a list of tagged sentences each broken down to a list of `(word, tag)` tuples). The `evaluate` method returns a float that represents the accuracy of the tagger. That is, the proportion of tags that were assigned correctly by the tagger on the tested set of tagged sentences.\n",
    "\n",
    "### Your task\n",
    "\n",
    "Below, we ask you to report the test error rate of the NLTK HMM tagger (in %). This corresponds to 100%−accuracy. The answer you provide should be given in the form of a percentage (float number, without the % sign). So for instance, if your tagger has a \"20.2%\" error rate, you should report `20.2`. As usual, you should report the error rate with at least two significant digits."
   ]
  },
  {
   "cell_type": "code",
   "execution_count": null,
   "metadata": {},
   "outputs": [
    {
     "name": "stdout",
     "output_type": "stream",
     "text": [
      "8.899463005777664\n"
     ]
    }
   ],
   "source": [
    "test = TaggedCorpusReader(root=\"resources\", fileids=\"BAWE_test.retagged.txt\")\n",
    "\n",
    "print(100 * (1 - tagger.evaluate(test.tagged_sents())))"
   ]
  }
 ],
 "metadata": {
  "kernelspec": {
   "display_name": "Python 3",
   "language": "python",
   "name": "python3"
  },
  "language_info": {
   "codemirror_mode": {
    "name": "ipython",
    "version": 3
   },
   "file_extension": ".py",
   "mimetype": "text/x-python",
   "name": "python",
   "nbconvert_exporter": "python",
   "pygments_lexer": "ipython3",
   "version": "3.6.8"
  }
 },
 "nbformat": 4,
 "nbformat_minor": 2
}
