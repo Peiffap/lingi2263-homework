{
 "cells": [
  {
   "cell_type": "markdown",
   "metadata": {},
   "source": [
    "# 2.1 Part-of-Speech (PoS) tags"
   ]
  },
  {
   "cell_type": "code",
   "execution_count": 1,
   "metadata": {},
   "outputs": [],
   "source": [
    "import nltk\n",
    "from collections import defaultdict\n",
    "from collections import Counter\n",
    "from nltk.corpus.reader import TaggedCorpusReader\n",
    "\n",
    "train = TaggedCorpusReader(root=\"resources\", fileids=\"BAWE_train.retagged.txt\")\n",
    "test  = TaggedCorpusReader(root=\"resources\", fileids=\"BAWE_test.retagged.txt\")\n",
    "\n",
    "tagged_words_train = train.tagged_words()"
   ]
  },
  {
   "cell_type": "markdown",
   "metadata": {},
   "source": [
    "## Question 1: Most frequent tags\n",
    "Based on the tagged training corpus, provide the top 3 most frequent tags. You should format your answer in a python dictionary, where the keys are the tags and the values are their corresponding counts (e.g. `{'NN': 10, 'JJ':10}`). For the tags, you should use the taxonomy that is used in the training corpus. For instance `'NN'` stands for a noun, `'JJ'` stands for an adjective, etc. You can refer to the NLTK documentation to check the meaning of each tag."
   ]
  },
  {
   "cell_type": "code",
   "execution_count": 2,
   "metadata": {},
   "outputs": [
    {
     "name": "stdout",
     "output_type": "stream",
     "text": [
      "{'NN': 906007, 'IN': 634158, 'DT': 538613}\n"
     ]
    }
   ],
   "source": [
    "freq = nltk.FreqDist([x for (_, x) in tagged_words_train])\n",
    "print({x: y for (x, y) in freq.most_common(3)})"
   ]
  },
  {
   "cell_type": "markdown",
   "metadata": {},
   "source": [
    "## Question 2: Most frequent POS before nouns\n",
    "Nouns generally refer to people, places, things, or concepts. They usually appear after determiners and adjectives and they are often followed by a verb.\n",
    "\n",
    "Analyze the training corpus to provide a dictionary of 3 POS tags that occur the most often before a common singular noun (NN). The keys of your dictionary should correspond to some POStags and the values should be the relative frequencies of occurrence (among all tokens appearing before a NN in the training corpus). The frequencies should be given with at least two significant digits."
   ]
  },
  {
   "cell_type": "code",
   "execution_count": 3,
   "metadata": {},
   "outputs": [
    {
     "name": "stdout",
     "output_type": "stream",
     "text": [
      "{'DT': 0.2898840737433596, 'JJ': 0.20038035026219445, 'IN': 0.12694383155980032}\n"
     ]
    }
   ],
   "source": [
    "d = defaultdict(int)\n",
    "for i in range(len(tagged_words_train) - 1):\n",
    "    if tagged_words_train[i + 1][1] == 'NN':\n",
    "        d[tagged_words_train[i][1]] += 1\n",
    "\n",
    "c = Counter(d)\n",
    "print({x: y/(sum(d.values())) for (x, y) in c.most_common(3)})"
   ]
  },
  {
   "cell_type": "markdown",
   "metadata": {},
   "source": [
    "## Question 3: Most common verbs\n",
    "Analyze the training corpus to determine which are the 3 most frequent verbs in the corpus? Provide your answer as a dictionary where each key is some verb occurrence and the associated value is its relative frequency (among the verbs). You should consider here all possible verb forms ([various possible POStags](https://inginious.info.ucl.ac.be/course/LINGI2263/project2a/TAGSET.png)). The frequencies should be given with at least two significant digits."
   ]
  },
  {
   "cell_type": "code",
   "execution_count": 4,
   "metadata": {},
   "outputs": [
    {
     "name": "stdout",
     "output_type": "stream",
     "text": [
      "{'<UNK>': 0.1474337683519249, 'is': 0.10494317215232941, 'be': 0.05552495213715372}\n"
     ]
    }
   ],
   "source": [
    "verbs = [x for (x, y) in tagged_words_train if y[:2] == 'VB']\n",
    "verb_freqs = nltk.FreqDist(verbs)\n",
    "print({x: y/len(verbs) for (x, y) in verb_freqs.most_common(3)})"
   ]
  }
 ],
 "metadata": {
  "kernelspec": {
   "display_name": "Python 3",
   "language": "python",
   "name": "python3"
  },
  "language_info": {
   "codemirror_mode": {
    "name": "ipython",
    "version": 3
   },
   "file_extension": ".py",
   "mimetype": "text/x-python",
   "name": "python",
   "nbconvert_exporter": "python",
   "pygments_lexer": "ipython3",
   "version": "3.6.8"
  }
 },
 "nbformat": 4,
 "nbformat_minor": 2
}
